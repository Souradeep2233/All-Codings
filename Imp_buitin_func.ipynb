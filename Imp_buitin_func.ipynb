{
 "cells": [
  {
   "cell_type": "code",
   "execution_count": 4,
   "metadata": {},
   "outputs": [],
   "source": [
    "l1=[1.6,2.89,3.54,4.23,5.12,6.39,7.52,8.20,9.33,'a','#',34,46]\n",
    "string=\"Hello myself Souradeep Dutta\"\n"
   ]
  },
  {
   "cell_type": "markdown",
   "metadata": {},
   "source": [
    "Reverse a list using slicing as l[::-1]"
   ]
  },
  {
   "cell_type": "code",
   "execution_count": 1,
   "metadata": {},
   "outputs": [
    {
     "name": "stdout",
     "output_type": "stream",
     "text": [
      "['4k', 5, 7.9]\n"
     ]
    }
   ],
   "source": [
    "l=[7.9,5,\"4k\"]\n",
    "print(l[::-1])"
   ]
  },
  {
   "cell_type": "markdown",
   "metadata": {},
   "source": [
    "Upper case & lower case Conversion using .upper() and .lower()"
   ]
  },
  {
   "cell_type": "code",
   "execution_count": 5,
   "metadata": {},
   "outputs": [
    {
     "name": "stdout",
     "output_type": "stream",
     "text": [
      "hello myself souradeep dutta\n",
      "HELLO MYSELF SOURADEEP DUTTA\n"
     ]
    }
   ],
   "source": [
    "print(string.lower())\n",
    "print(string.upper())"
   ]
  },
  {
   "cell_type": "markdown",
   "metadata": {},
   "source": [
    "enumerate(): returns a tuple (index,item) from an iterable ds"
   ]
  },
  {
   "cell_type": "code",
   "execution_count": 2,
   "metadata": {},
   "outputs": [
    {
     "name": "stdout",
     "output_type": "stream",
     "text": [
      "Index:0,Items:1.6\n",
      "Index:1,Items:2.89\n",
      "Index:2,Items:3.54\n",
      "Index:3,Items:4.23\n",
      "Index:4,Items:5.12\n",
      "Index:5,Items:6.39\n",
      "Index:6,Items:7.52\n",
      "Index:7,Items:8.2\n",
      "Index:8,Items:9.33\n",
      "Index:9,Items:a\n",
      "Index:10,Items:#\n",
      "Index:11,Items:34\n",
      "Index:12,Items:46\n"
     ]
    }
   ],
   "source": [
    "for index,items in enumerate(l1):\n",
    "    print(f\"Index:{index},Items:{items}\")"
   ]
  },
  {
   "cell_type": "markdown",
   "metadata": {},
   "source": [
    "filter(function, ds):Takes a filter function and ds as input , returns the address of filtered ds, so need to respecify the ds of filtered outputs "
   ]
  },
  {
   "cell_type": "code",
   "execution_count": 3,
   "metadata": {},
   "outputs": [
    {
     "name": "stdout",
     "output_type": "stream",
     "text": [
      "[2, 4, 6, 8, 10]\n"
     ]
    }
   ],
   "source": [
    "numbers = [1, 2, 3, 4, 5, 6, 7, 8, 9, 10]\n",
    "def is_even(num):\n",
    "    return num % 2 == 0\n",
    "\n",
    "even_numbers = list(filter(is_even, numbers))\n",
    "\n",
    "print(even_numbers)"
   ]
  },
  {
   "cell_type": "markdown",
   "metadata": {},
   "source": [
    "abs(x): Returns the mod value of a number(Real/Imaginary:|x|) "
   ]
  },
  {
   "cell_type": "code",
   "execution_count": 4,
   "metadata": {},
   "outputs": [
    {
     "name": "stdout",
     "output_type": "stream",
     "text": [
      "3.4\n",
      "6.7\n",
      "5.0\n"
     ]
    }
   ],
   "source": [
    "l2=[3.4,-6.7,3+4j]\n",
    "for _,items in enumerate(l2):\n",
    "    print(abs(items))"
   ]
  },
  {
   "cell_type": "markdown",
   "metadata": {},
   "source": [
    "XOR Gate implementation : a^b| Importance: 1. Can only trace twice duplicate if any in iterables 2. Return unique item."
   ]
  },
  {
   "cell_type": "code",
   "execution_count": 4,
   "metadata": {},
   "outputs": [
    {
     "name": "stdout",
     "output_type": "stream",
     "text": [
      "Duplicates found\n",
      "Duplicates found\n",
      "The only single element is: 4\n"
     ]
    }
   ],
   "source": [
    "nums = [4,1,2,1,2]\n",
    "xor=0\n",
    "for i in nums:\n",
    "    xor_prev=xor # When operands are different , xor adds it\n",
    "    xor=xor^i    # When one of the operands have been previously used to add up , appears again it subtracts.\n",
    "    if xor_prev>xor: # So if any duplicate last xor val is less than previous ones....\n",
    "        print(\"Duplicates found\")\n",
    "print(f\"The only single element is: {xor}\") # And finally 5^2^5 returns 2, i.e the only non duplicate"
   ]
  },
  {
   "cell_type": "markdown",
   "metadata": {},
   "source": [
    "set(): An inbuilt constructor function, allowing only Unique entry keeping data in an unordered manner only !!!"
   ]
  },
  {
   "cell_type": "code",
   "execution_count": 4,
   "metadata": {},
   "outputs": [
    {
     "name": "stdout",
     "output_type": "stream",
     "text": [
      "{2, 3, 4, 5, 3389, -1}\n",
      "{3, 4, 5, -1}\n"
     ]
    }
   ],
   "source": [
    "l=[-1,3,2,-1,2,4,5]\n",
    "\n",
    "a=set() # Constructor function call !\n",
    "for i in l:\n",
    "    a.add(i) # Add elemetns in set ## a is a set with unique entries of l only => Unique numbers\n",
    "\n",
    "a.remove(2)# Remove a prticular element from the set.\n",
    "\n",
    "l.append(3389)\n",
    "\n",
    "print(set(l)) # Direct function application\n",
    "\n",
    "print(a)"
   ]
  },
  {
   "cell_type": "markdown",
   "metadata": {},
   "source": [
    "SET Operations:-\n",
    "1. Set Difference : X-Y ---> X.difference(Y)\n",
    "2. Set Union : x union y ---> x.union(y)\n",
    "3. Set intersection : X intersect Y ---> X.intersection(Y)"
   ]
  },
  {
   "cell_type": "code",
   "execution_count": 3,
   "metadata": {},
   "outputs": [
    {
     "name": "stdout",
     "output_type": "stream",
     "text": [
      "Set elements after difference:\n",
      " {1, 2, 5}\n",
      "Set elements after union:\n",
      " {1, 2, 3, 5, 6, 7, 8, 20}\n",
      "Set elements after intersection:\n",
      " {3, 6, 7}\n"
     ]
    }
   ],
   "source": [
    "\n",
    "arr1 = set([7, 1, 5, 2, 3, 6])\n",
    "arr2 = set([3, 8, 6, 20, 7])\n",
    "\n",
    "difference = arr1.difference(arr2)\n",
    "union = arr1.union(arr2)\n",
    "intersection = arr1.intersection(arr2)\n",
    "\n",
    "print(\"Set elements after difference:\\n\", difference) \n",
    "print(\"Set elements after union:\\n\", union)\n",
    "print(\"Set elements after intersection:\\n\", intersection)\n"
   ]
  },
  {
   "cell_type": "markdown",
   "metadata": {},
   "source": [
    "ord(character): Returns the Ascii value of a character."
   ]
  },
  {
   "cell_type": "markdown",
   "metadata": {},
   "source": [
    "chr(ascii_value): Returns the corresponding character to the parsed ascii value."
   ]
  },
  {
   "cell_type": "code",
   "execution_count": 5,
   "metadata": {},
   "outputs": [
    {
     "name": "stdout",
     "output_type": "stream",
     "text": [
      "72\n",
      "H\n"
     ]
    }
   ],
   "source": [
    "print(ord('H'))\n",
    "t=ord('H')\n",
    "print(chr(t))"
   ]
  },
  {
   "cell_type": "markdown",
   "metadata": {},
   "source": [
    "Check if given expression is n bit: struct.pack(format,val), (char)c=1B,(integers)[i=4B ,q =8B],(float)[f=4B,d=8B]"
   ]
  },
  {
   "cell_type": "code",
   "execution_count": 16,
   "metadata": {},
   "outputs": [
    {
     "name": "stdout",
     "output_type": "stream",
     "text": [
      "True\n",
      "False\n",
      "True\n"
     ]
    }
   ],
   "source": [
    "import struct\n",
    "from struct import pack, error\n",
    "def test(string,n):\n",
    "    try:\n",
    "        pack(string,n) \n",
    "    except error:\n",
    "        return False\n",
    "    return True\n",
    "print(test(\"q\",437647364783464)) \n",
    "print(test(\"i\",437647364783464)) \n",
    "print(test(\"i\",-4372))\n",
    "    "
   ]
  },
  {
   "cell_type": "markdown",
   "metadata": {},
   "source": [
    ".replace(old_substring,new_substring, count(optional)):  Helps in replacing occurence of all such old_substring with new_substring"
   ]
  },
  {
   "cell_type": "code",
   "execution_count": 6,
   "metadata": {},
   "outputs": [
    {
     "name": "stdout",
     "output_type": "stream",
     "text": [
      "Hi myself Souradeep Dutta\n"
     ]
    }
   ],
   "source": [
    "print(string.replace(\"Hello\",\"Hi\"))"
   ]
  },
  {
   "cell_type": "markdown",
   "metadata": {},
   "source": [
    "bin(decimal): Returns corresponding binary value."
   ]
  },
  {
   "cell_type": "code",
   "execution_count": 7,
   "metadata": {},
   "outputs": [
    {
     "name": "stdout",
     "output_type": "stream",
     "text": [
      "0b11111111\n",
      "11111111\n"
     ]
    }
   ],
   "source": [
    "t=255\n",
    "print(bin(t))\n",
    "#To remove the prefix \"0b\" added by python \n",
    "print(bin(t).replace(\"0b\",\"\"))\n"
   ]
  },
  {
   "cell_type": "markdown",
   "metadata": {},
   "source": [
    "int(expression,base): Converts any expression of a given base to decimal value."
   ]
  },
  {
   "cell_type": "code",
   "execution_count": 1,
   "metadata": {},
   "outputs": [
    {
     "name": "stdout",
     "output_type": "stream",
     "text": [
      "5\n"
     ]
    }
   ],
   "source": [
    "binary='101'\n",
    "decimal1=int(binary,2)\n",
    "print(decimal1)"
   ]
  },
  {
   "cell_type": "markdown",
   "metadata": {},
   "source": [
    "min/max(iterable) :Returns min/max value in any iterable ds."
   ]
  },
  {
   "cell_type": "code",
   "execution_count": 8,
   "metadata": {},
   "outputs": [
    {
     "name": "stdout",
     "output_type": "stream",
     "text": [
      "(1, 10)\n"
     ]
    }
   ],
   "source": [
    "print((min(numbers),max(numbers)))"
   ]
  },
  {
   "cell_type": "markdown",
   "metadata": {},
   "source": [
    " map(function,iterables): Takes a function and set of iterables as an input....Applies function to each item in\n",
    "every iterables...& Returns an iterator/pointer(map object). Needs to be dereferenced using a certain ds."
   ]
  },
  {
   "cell_type": "code",
   "execution_count": 9,
   "metadata": {},
   "outputs": [
    {
     "name": "stdout",
     "output_type": "stream",
     "text": [
      "[1, 4, 9, 16, 25, 36, 49, 64, 81, 100]\n"
     ]
    }
   ],
   "source": [
    "def square(num):\n",
    "    return num**2\n",
    "\n",
    "squared_numbers=list(map(square,numbers))\n",
    "print(squared_numbers)"
   ]
  },
  {
   "cell_type": "markdown",
   "metadata": {},
   "source": [
    "String split : into Characters using list(string) and Words using .split(delimiter) ! # By default it's space."
   ]
  },
  {
   "cell_type": "code",
   "execution_count": 2,
   "metadata": {},
   "outputs": [
    {
     "name": "stdout",
     "output_type": "stream",
     "text": [
      "['H', 'e', 'l', 'l', 'o', ' ', 'm', 'y', 's', 'e', 'l', 'f', ' ', 'S', 'o', 'u', 'r', 'a', 'd', 'e', 'e', 'p', ' ', 'D', 'u', 't', 't', 'a']\n",
      "['Hello', 'myself', 'Souradeep', 'Dutta']\n",
      "['Hello', 'myself', 'Souradeep', 'Dutta']\n"
     ]
    }
   ],
   "source": [
    "string1=\"Hello myself Souradeep Dutta\"\n",
    "string2=\"Hello,myself,Souradeep,Dutta\"\n",
    "# Seprating into characters !\n",
    "print(list(string1))\n",
    "# Seperating into words \n",
    "print(string1.split())\n",
    "# Seperating with ',' delimiter.\n",
    "print(string2.split(','))"
   ]
  },
  {
   "cell_type": "markdown",
   "metadata": {},
   "source": [
    "delimiter_string .join(iterable) : Takes a list of strings as an input & Returns a new string seperated by delimiter string."
   ]
  },
  {
   "cell_type": "code",
   "execution_count": 10,
   "metadata": {},
   "outputs": [
    {
     "name": "stdout",
     "output_type": "stream",
     "text": [
      "Hello,Rick,Hope,U are,Well !\n"
     ]
    }
   ],
   "source": [
    "l4=[\"Hello\",\"Rick\", \"Hope\", \"U are\",\"Well !\"]\n",
    "print(\",\".join(l4))"
   ]
  },
  {
   "cell_type": "markdown",
   "metadata": {},
   "source": [
    "Find the begining index of the substring in a given string using \n",
    "parent.find(substring)"
   ]
  },
  {
   "cell_type": "code",
   "execution_count": 1,
   "metadata": {},
   "outputs": [
    {
     "name": "stdout",
     "output_type": "stream",
     "text": [
      "0\n"
     ]
    }
   ],
   "source": [
    "Parent=\"HelloIamSouradeep\"\n",
    "ss=\"Hello\"\n",
    "print(Parent.find(ss))"
   ]
  },
  {
   "cell_type": "markdown",
   "metadata": {},
   "source": [
    "Check if a given string is numeric / not using : string.isnumeric() , but it fails for a \"-\"/\".\" chars in string."
   ]
  },
  {
   "cell_type": "code",
   "execution_count": 2,
   "metadata": {},
   "outputs": [
    {
     "name": "stdout",
     "output_type": "stream",
     "text": [
      "True\n",
      "False\n",
      "False\n"
     ]
    }
   ],
   "source": [
    "print(\"11\".isnumeric())\n",
    "print(\"-11\".isnumeric())\n",
    "print(\"3.4\".isnumeric())"
   ]
  },
  {
   "cell_type": "markdown",
   "metadata": {},
   "source": [
    "Comparison using all() & in :\n",
    "\n",
    "in: check the membership of a value in an iterable (list, tuple etc).\n",
    "\n",
    "all(): return true if , condition is satisfied in all cases else false .\n"
   ]
  },
  {
   "cell_type": "code",
   "execution_count": null,
   "metadata": {},
   "outputs": [],
   "source": []
  },
  {
   "cell_type": "code",
   "execution_count": 8,
   "metadata": {},
   "outputs": [
    {
     "name": "stdout",
     "output_type": "stream",
     "text": [
      "True\n"
     ]
    }
   ],
   "source": [
    "l1=['a','b','c']\n",
    "l2=['a','b']\n",
    "# Check whether l2 is a subset of l1 or not / Jumbled !\n",
    "# all((2)char in l1     (1)for char in l2)\n",
    "print(all(char in l1 for char in l2 ))"
   ]
  },
  {
   "cell_type": "markdown",
   "metadata": {},
   "source": [
    "Slicing[start:stop:step] : Works on iterables like strings,list, tuples. If step<0: reverse count."
   ]
  },
  {
   "cell_type": "code",
   "execution_count": 11,
   "metadata": {},
   "outputs": [
    {
     "name": "stdout",
     "output_type": "stream",
     "text": [
      "attuD peedaruoS flesym olleH\n",
      "[2, 4, 6, 8]\n",
      "[1, 2, 3, 4, 5, 6, 7, 8, 9, 10]\n"
     ]
    }
   ],
   "source": [
    "print(string[::-1])# Reverse a string!\n",
    "print(numbers[1:8:2])# Python uses 0 based indexing!\n",
    "g=numbers[:]#Copying!\n",
    "print(g)"
   ]
  },
  {
   "cell_type": "markdown",
   "metadata": {},
   "source": [
    "List data structure"
   ]
  },
  {
   "cell_type": "code",
   "execution_count": 35,
   "metadata": {},
   "outputs": [
    {
     "name": "stdout",
     "output_type": "stream",
     "text": [
      "[7, 6, 4, 3, 2, 'Puja Coming', 1, 0]\n",
      "[2, 4, 6, 8, 10]\n"
     ]
    }
   ],
   "source": [
    "# List is a dynamically sized array(like vector in C++), but can accept elements of any data type.\n",
    "\n",
    "l=[]\n",
    "for i in range(8):\n",
    "    l.append(i)# ADD elements at end of the list\n",
    "l.insert(2,\"Puja Coming\")# Insert elements at any index as : .insert(index,element)\n",
    "l.append(5)\n",
    "l.reverse()# Reverse a list using .reverse()\n",
    "\n",
    "l.remove(5) # Remove the first occurence of an element from the list\n",
    "l.pop(2) # Defalut: Remove the last element. Else remove the element at a particular position .pop(index)\n",
    "\n",
    "print(l)\n",
    "\n",
    "# To convert any iterable to list use =list(iterable)\n",
    "def is_even(num):\n",
    "    return num % 2 == 0\n",
    "\n",
    "even_numbers = list(filter(is_even, numbers))\n",
    "\n",
    "print(even_numbers)\n",
    "\n"
   ]
  },
  {
   "cell_type": "markdown",
   "metadata": {},
   "source": [
    "Stack data structure"
   ]
  },
  {
   "cell_type": "code",
   "execution_count": 7,
   "metadata": {},
   "outputs": [
    {
     "name": "stdout",
     "output_type": "stream",
     "text": [
      "[10, 11, 12, 13, 14, 15, 16, 17, 18, 19, 20]\n",
      "20\n",
      "[10, 11, 12, 13, 14, 15, 16, 17, 18, 19]\n",
      "[10, 11, 12, 13, 14, 15, 16, 17, 18, 19]\n"
     ]
    }
   ],
   "source": [
    "#Implementing stack using list\n",
    "stack=[]\n",
    "\n",
    "for item in range(10,21):\n",
    "    stack.append(item)# ADD at top\n",
    "print(stack)\n",
    "t=stack.pop()# pop from top\n",
    "print(t)\n",
    "print(stack) # LIFO"
   ]
  },
  {
   "cell_type": "markdown",
   "metadata": {},
   "source": [
    "Queue data structure"
   ]
  },
  {
   "cell_type": "code",
   "execution_count": 43,
   "metadata": {},
   "outputs": [
    {
     "name": "stdout",
     "output_type": "stream",
     "text": [
      "[4, 3, 2, 'Puja Coming', 1, 0]\n",
      "4\n",
      "3\n",
      "[2, 'Puja Coming', 1, 0]\n"
     ]
    }
   ],
   "source": [
    "#1. Using list :\n",
    "# .append(), .pop(0)----> FIFO implemented.\n",
    "print(l)\n",
    "print(l.pop(0))\n",
    "print(l.pop(0))\n",
    "print(l)\n"
   ]
  },
  {
   "cell_type": "markdown",
   "metadata": {},
   "source": [
    " SORTING : .sort() -> Sorts the iterable structure in ascending. For descending sort-> .sort(reverse=True)  "
   ]
  },
  {
   "cell_type": "code",
   "execution_count": 5,
   "metadata": {},
   "outputs": [
    {
     "name": "stdout",
     "output_type": "stream",
     "text": [
      "[4, 4.5, 5, 5, 6, 6.7, 7, 46.76, 54, 54.54, 454]\n",
      "[454, 54.54, 54, 46.76, 7, 6.7, 6, 5, 5, 4.5, 4]\n"
     ]
    }
   ],
   "source": [
    "l=[5,6.7,7,5,6,4,4.5,46.76,54.54,454,54]\n",
    "l.sort()\n",
    "print(l)\n",
    "l.sort(reverse=True)\n",
    "print(l)\n"
   ]
  },
  {
   "cell_type": "markdown",
   "metadata": {},
   "source": [
    "Search: .index(key) ->Returns the corresponding first occurence (index) to search key if present !Else raises value error.!"
   ]
  },
  {
   "cell_type": "code",
   "execution_count": 10,
   "metadata": {},
   "outputs": [
    {
     "name": "stdout",
     "output_type": "stream",
     "text": [
      "2\n",
      "6\n"
     ]
    }
   ],
   "source": [
    "print(l.index(54))\n",
    "print(l.index(6))"
   ]
  },
  {
   "cell_type": "markdown",
   "metadata": {},
   "source": [
    "Counting: list.count(key) ->Returns the total repeatations of search key if any else 0 for none found !"
   ]
  },
  {
   "cell_type": "code",
   "execution_count": 12,
   "metadata": {},
   "outputs": [
    {
     "name": "stdout",
     "output_type": "stream",
     "text": [
      "2\n",
      "0\n"
     ]
    }
   ],
   "source": [
    "print(l.count(5))\n",
    "print(l.count(544))"
   ]
  },
  {
   "cell_type": "markdown",
   "metadata": {},
   "source": [
    "zip(itrbl1,itrbl2,itrbl3..): it packs one or more iterable ds , and on accessing returns a tuple of corresponding elements at a time from all iterables ! "
   ]
  },
  {
   "cell_type": "code",
   "execution_count": 2,
   "metadata": {},
   "outputs": [
    {
     "name": "stdout",
     "output_type": "stream",
     "text": [
      "(0, 0)\n",
      "(2, 2)\n",
      "(4, 4)\n",
      "(6, 6)\n",
      "(8, 8)\n"
     ]
    }
   ],
   "source": [
    "f=[]\n",
    "g=[]\n",
    "\n",
    "for i in range(10):\n",
    "    f.append(i)\n",
    "    g.append(i)\n",
    "\n",
    "for _,i in enumerate(zip(f,g)):\n",
    "    a,b=i\n",
    "    if(a%2==0 and b%2==0):\n",
    "        print(i)"
   ]
  },
  {
   "cell_type": "markdown",
   "metadata": {},
   "source": [
    "Heap: heapq or heapification on queue is the ds , implemented as min heap by default, remember it is not heap sort !"
   ]
  },
  {
   "cell_type": "code",
   "execution_count": 4,
   "metadata": {},
   "outputs": [
    {
     "name": "stdout",
     "output_type": "stream",
     "text": [
      "[1, 3, 9, 7, 5]\n",
      "[4, 3, 9, 7, 5]\n",
      "[-1, 3, 4, 7, 5, 9]\n",
      "-1\n",
      "-1\n",
      "[9, 7, 5, 4]\n",
      "[3, 4]\n",
      "9\n",
      "[7, 5, 4, 3]\n",
      "[8, 5, 4, 3]\n",
      "{'A': 9, 'B': 8}\n"
     ]
    }
   ],
   "source": [
    "import heapq\n",
    "\n",
    "l1=[5,7,9,1,3]\n",
    "\n",
    "# Create min heap\n",
    "heapq.heapify(l1)\n",
    "print(list(l1)) # Converting queue used internally to iteralble list. <Optional>\n",
    "l1[0]+=3\n",
    "print(l1)\n",
    "\n",
    "# Insert element in min heap\n",
    "heapq.heappush(l1,-1)\n",
    "print(l1)\n",
    "\n",
    "# Access the minimum / root\n",
    "print(l1[0])\n",
    "\n",
    "# Delete root node / min element\n",
    "print(heapq.heappop(l1))\n",
    "\n",
    "# Prints (list) first K largest elements in heap in sorted order\n",
    "print(heapq.nlargest(4, l1))\n",
    "\n",
    "# Prints (list) first K smallest elements in heap in sortde order\n",
    "print(heapq.nsmallest(2,l1))\n",
    "\n",
    "# Make a max heap using:\n",
    "# heapq._heapify_max(iterable) and get the largest element via heapq._heappop_max(iterable)\n",
    "\n",
    "heapq._heapify_max(l1)#Max heapify l1\n",
    "print(heapq._heappop_max(l1))# Largset element of heap deleted and max heap reconstructed !\n",
    "print(l1)\n",
    "\n",
    "# Max heap pop followed by a heap push using heapq._heapreplace_max(heap,item)\n",
    "heapq._heapreplace_max(l1,8)\n",
    "print(l1)\n",
    "\n",
    "t={}\n",
    "\n",
    "t['A']=9\n",
    "t['B']=8\n",
    "heapq.heapify(list(t))\n",
    "print(t)\n",
    "\n"
   ]
  },
  {
   "cell_type": "markdown",
   "metadata": {},
   "source": [
    "Dictionary :  Dictionaries are mutable data structures that can store key-value pairs {key: value,.....} with unique key_name."
   ]
  },
  {
   "cell_type": "code",
   "execution_count": 19,
   "metadata": {},
   "outputs": [
    {
     "name": "stdout",
     "output_type": "stream",
     "text": [
      "{'Firstname': 'Souradeep Dutta', 'Surname': 'Rick'}\n",
      "{0: 'A', 1: 'B', 2: 'C', 3: 'D', 4: 'E', 5: 'F', 6: 'G', 7: 'H', 8: 'I', 9: 'J', 10: 'K', 11: 'L', 12: 'M', 13: 'N', 14: 'O', 15: 'P', 16: 'Q', 17: 'R', 18: 'S', 19: 'T', 20: 'U', 21: 'V', 22: 'W', 23: 'X', 24: 'Y'}\n",
      "{0: 'a', 1: 'b', 2: 'c', 3: 'd', 4: 'e', 5: 'f', 6: 'g', 7: 'h', 8: 'i', 9: 'j', 10: 'k', 11: 'l', 12: 'm', 13: 'n', 14: 'o', 15: 'p', 16: 'q', 17: 'r', 18: 's', 19: 't', 20: 'u', 21: 'v', 22: 'w', 23: 'x', 24: 'y'}\n",
      "{'Firstname': 'Souradeep Dutta', 'Surname': 'Rick', 'First Dict': {0: 'A', 1: 'B', 2: 'C', 3: 'D', 4: 'E', 5: 'F', 6: 'G', 7: 'H', 8: 'I', 9: 'J', 10: 'K', 11: 'L', 12: 'M', 13: 'N', 14: 'O', 15: 'P', 16: 'Q', 17: 'R', 18: 'S', 19: 'T', 20: 'U', 21: 'V', 22: 'W', 23: 'X', 24: 'Y'}, 'Second Dict': {0: 'a', 1: 'b', 2: 'c', 3: 'd', 4: 'e', 5: 'f', 6: 'g', 7: 'h', 8: 'i', 9: 'j', 10: 'k', 11: 'l', 12: 'm', 13: 'n', 14: 'o', 15: 'p', 16: 'q', 17: 'r', 18: 's', 19: 't', 20: 'u', 21: 'v', 22: 'w', 23: 'x', 24: 'y'}}\n",
      "['Firstname', 'Surname', 'First Dict', 'Second Dict']\n",
      "Souradeep Dutta\n",
      "Rick\n",
      "{0: 'A', 1: 'B', 2: 'C', 3: 'D', 4: 'E', 5: 'F', 6: 'G', 7: 'H', 8: 'I', 9: 'J', 10: 'K', 11: 'L', 12: 'M', 13: 'N', 14: 'O', 15: 'P', 16: 'Q', 17: 'R', 18: 'S', 19: 'T', 20: 'U', 21: 'V', 22: 'W', 23: 'X', 24: 'Y'}\n",
      "{0: 'a', 1: 'b', 2: 'c', 3: 'd', 4: 'e', 5: 'f', 6: 'g', 7: 'h', 8: 'i', 9: 'j', 10: 'k', 11: 'l', 12: 'm', 13: 'n', 14: 'o', 15: 'p', 16: 'q', 17: 'r', 18: 's', 19: 't', 20: 'u', 21: 'v', 22: 'w', 23: 'x', 24: 'y'}\n",
      "4\n",
      "{'Surname': 'Rick', 'First Dict': {0: 'A', 1: 'B', 2: 'C', 3: 'D', 4: 'E', 5: 'F', 6: 'G', 7: 'H', 8: 'I', 9: 'J', 10: 'K', 11: 'L', 12: 'M', 13: 'N', 14: 'O', 15: 'P', 16: 'Q', 17: 'R', 18: 'S', 19: 'T', 20: 'U', 21: 'V', 22: 'W', 23: 'X', 24: 'Y'}, 'Second Dict': {0: 'a', 1: 'b', 2: 'c', 3: 'd', 4: 'e', 5: 'f', 6: 'g', 7: 'h', 8: 'i', 9: 'j', 10: 'k', 11: 'l', 12: 'm', 13: 'n', 14: 'o', 15: 'p', 16: 'q', 17: 'r', 18: 's', 19: 't', 20: 'u', 21: 'v', 22: 'w', 23: 'x', 24: 'y'}}\n",
      "{'First Dict': {0: 'A', 1: 'B', 2: 'C', 3: 'D', 4: 'E', 5: 'F', 6: 'G', 7: 'H', 8: 'I', 9: 'J', 10: 'K', 11: 'L', 12: 'M', 13: 'N', 14: 'O', 15: 'P', 16: 'Q', 17: 'R', 18: 'S', 19: 'T', 20: 'U', 21: 'V', 22: 'W', 23: 'X', 24: 'Y'}, 'Second Dict': {0: 'a', 1: 'b', 2: 'c', 3: 'd', 4: 'e', 5: 'f', 6: 'g', 7: 'h', 8: 'i', 9: 'j', 10: 'k', 11: 'l', 12: 'm', 13: 'n', 14: 'o', 15: 'p', 16: 'q', 17: 'r', 18: 's', 19: 't', 20: 'u', 21: 'v', 22: 'w', 23: 'x', 24: 'y'}}\n",
      "2\n",
      "Values in dict within dict:\n",
      "A\n",
      "a\n",
      "B\n",
      "b\n",
      "C\n",
      "c\n",
      "D\n",
      "d\n",
      "E\n",
      "e\n"
     ]
    }
   ],
   "source": [
    "# Dictionary initialisation: dict[key_name]=value\n",
    "dict={}\n",
    "dict[\"Firstname\"]=\"Souradeep Dutta\"\n",
    "dict[\"Surname\"]=\"Rick\"\n",
    "print(dict)\n",
    "\n",
    "# Creating Dictionary using loop\n",
    "dict1={}\n",
    "for i in range(65,90):\n",
    "    dict1[i-65]=chr(i)\n",
    "print(dict1)\n",
    "\n",
    "dict2={}\n",
    "for i in range(97,122):\n",
    "    dict2[i-97]=chr(i)\n",
    "print(dict2)\n",
    "\n",
    "# Creating a dictionary within dictionary.\n",
    "dict['First Dict']=dict1\n",
    "dict['Second Dict']=dict2\n",
    "print(dict)\n",
    "\n",
    "# Get the keys only from dictionary, but need to list() it to access.\n",
    "keys=list(dict.keys())\n",
    "print(keys)\n",
    "\n",
    "# Accessing Values through keys list\n",
    "for key in keys:\n",
    "    print(dict[key])\n",
    "\n",
    "# len(dict) returns no of defined keys inside the dictionary.\n",
    "print(len(dict))\n",
    "DICT=dict\n",
    "# Deleting a (key-value) pair    using  del(key_name)\n",
    "del(dict['Firstname'])\n",
    "print(dict)\n",
    "del(dict['Surname'])\n",
    "print(dict)\n",
    "print(len(dict))\n",
    "\n",
    "# Accessing a dictionary within dictionary : dict[parent_index][sub_dict_index]\n",
    "print(\"Values in dict within dict:\")\n",
    "for i in range(5): # Since sub_dict_index is in numericals\n",
    "    print(dict['First Dict'][i])\n",
    "    print(dict['Second Dict'][i])\n",
    "\n",
    "\n",
    "\n"
   ]
  },
  {
   "cell_type": "markdown",
   "metadata": {},
   "source": [
    "Convinient Dictionary API's:"
   ]
  },
  {
   "cell_type": "code",
   "execution_count": 13,
   "metadata": {},
   "outputs": [
    {
     "name": "stdout",
     "output_type": "stream",
     "text": [
      "dict_values(['John', 25, 'New York'])\n",
      "dict_items([('name', 'John'), ('age', 25), ('city', 'New York')])\n",
      "{'name': 'Souradeep Dutta', 'age': 20, 'city': 'kolkata'}\n",
      "Souradeep Dutta\n",
      "{'name': 'Souradeep Dutta', 'age': 20}\n",
      "('Sex', 'Male')\n",
      "{'name': 'Souradeep Dutta', 'age': 20, 'HBD': 0}\n",
      "None\n"
     ]
    }
   ],
   "source": [
    "my_dict = {\n",
    "    'name': 'John',\n",
    "    'age': 25,\n",
    "    'city': 'New York'\n",
    "}\n",
    "\n",
    "# Get only the values using dict.values()\n",
    "print(my_dict.values())\n",
    "\n",
    "# Get a list of tuples of (key,value)pair using dict.items()\n",
    "print(my_dict.items())\n",
    "\n",
    "# Update a dictionary using (key- value) pair with dict.update({key:new_value})\n",
    "my_dict.update({'name':'Souradeep Dutta','city':'kolkata','age':20})\n",
    "print(my_dict)\n",
    "\n",
    "# Get the corresponding value for a specific key using dict.get(key_specified)\n",
    "print(my_dict.get('name'))\n",
    "\n",
    "# Remove a pair with a key specified using dict.pop(key)\n",
    "my_dict.pop('city')\n",
    "print(my_dict)\n",
    "\n",
    "# Remove the last entered (key,value) pair  using dict.popitem()\n",
    "my_dict['Sex']='Male'\n",
    "print(my_dict.popitem())\n",
    "\n",
    "# Initialise a non declared key with default value using dict.setdefault(key,<default>value)\n",
    "my_dict.setdefault('HBD',0)\n",
    "print(my_dict)\n",
    "\n",
    "# Clear/Reset the dictionary using dict.clear()\n",
    "print(my_dict.clear())\n",
    "\n"
   ]
  },
  {
   "cell_type": "markdown",
   "metadata": {},
   "source": [
    "Mathematical tools !"
   ]
  },
  {
   "cell_type": "code",
   "execution_count": 8,
   "metadata": {},
   "outputs": [
    {
     "name": "stdout",
     "output_type": "stream",
     "text": [
      "45\n",
      "10\n",
      "3.0\n",
      "6.22881869049588\n",
      "6\n",
      "0.3704784946352466\n",
      "9\n",
      "5.275996266129498\n"
     ]
    }
   ],
   "source": [
    "import math\n",
    "import random\n",
    "\n",
    "# input() takes input in python as string and then typecasted to various data types !\n",
    "x=int(input(\"Enter a number:\"))\n",
    "\n",
    "print(math.floor(45.32))\n",
    "print(math.ceil(9.4))\n",
    "print(math.sqrt(9))\n",
    "print(math.log(x,2)) # math.log(x, base)\n",
    "print(round(5.69))\n",
    "\n",
    "# random.random() : generates random between 0 & 1\n",
    "print(random.random())\n",
    "# random.randint(a,b) : generates random integer between a, b\n",
    "print(random.randint(0,34))\n",
    "# random.uniform(a,b) : generates random float between a, b\n",
    "print(random.uniform(4.5,5.3))"
   ]
  },
  {
   "cell_type": "markdown",
   "metadata": {},
   "source": [
    "GCD of strings and periodicity of strings !"
   ]
  },
  {
   "cell_type": "code",
   "execution_count": 3,
   "metadata": {},
   "outputs": [
    {
     "name": "stdout",
     "output_type": "stream",
     "text": [
      "Periodic\n",
      "ab\n"
     ]
    }
   ],
   "source": [
    "import math\n",
    "x=\"ababab\"\n",
    "y=\"abab\"\n",
    "if x+y == y+x:\n",
    "    print(\"Periodic\")\n",
    "    # And gcd of two strings then:\n",
    "    print (y[:math.gcd(len(x),len(y))])"
   ]
  },
  {
   "cell_type": "code",
   "execution_count": null,
   "metadata": {},
   "outputs": [],
   "source": []
  }
 ],
 "metadata": {
  "kernelspec": {
   "display_name": "base",
   "language": "python",
   "name": "python3"
  },
  "language_info": {
   "codemirror_mode": {
    "name": "ipython",
    "version": 3
   },
   "file_extension": ".py",
   "mimetype": "text/x-python",
   "name": "python",
   "nbconvert_exporter": "python",
   "pygments_lexer": "ipython3",
   "version": "3.9.18"
  }
 },
 "nbformat": 4,
 "nbformat_minor": 2
}
